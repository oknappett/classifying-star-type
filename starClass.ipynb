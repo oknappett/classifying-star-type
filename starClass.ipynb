{
 "cells": [
  {
   "cell_type": "markdown",
   "metadata": {},
   "source": [
    "# Star Type Classifcation\n",
    "\n",
    "Data set taken from [Kaggle](https://www.kaggle.com/brsdincer/star-type-classification)\n",
    "\n",
    "![Classification of different stars](types.png)\n",
    "\n",
    "The dataset is for the classification of different stars based on: \n",
    "* Temperature\n",
    "* Relative Luminosity, L -> light emitted from surface\n",
    "* Relative Radius, R -> size relative to our sun\n",
    "* Absolute magnitude, A_M -> \n",
    "* Spectral Class -> O, B, A, F, G, K, M\n",
    "* Color\n",
    "\n",
    "The different types of star, the classification, are encoded to the values:\n",
    "* Red Dwarf, 0\n",
    "* Brown Dwarf, 1\n",
    "* White Dwarf, 2\n",
    "* Main Sequence, 3\n",
    "* Super Giants, 4\n",
    "* Hyper Giants, 5\n"
   ]
  },
  {
   "cell_type": "markdown",
   "metadata": {},
   "source": [
    "## Loading the dataset and processing"
   ]
  },
  {
   "cell_type": "code",
   "execution_count": 1,
   "metadata": {},
   "outputs": [],
   "source": [
    "import pandas as pd\n",
    "import numpy as np\n",
    "import matplotlib.pyplot as plt\n",
    "%matplotlib inline"
   ]
  },
  {
   "cell_type": "code",
   "execution_count": 4,
   "metadata": {},
   "outputs": [
    {
     "name": "stdout",
     "output_type": "stream",
     "text": [
      "<class 'pandas.core.frame.DataFrame'>\n",
      "RangeIndex: 240 entries, 0 to 239\n",
      "Data columns (total 7 columns):\n",
      " #   Column          Non-Null Count  Dtype  \n",
      "---  ------          --------------  -----  \n",
      " 0   Temperature     240 non-null    int64  \n",
      " 1   L               240 non-null    float64\n",
      " 2   R               240 non-null    float64\n",
      " 3   A_M             240 non-null    float64\n",
      " 4   Color           240 non-null    object \n",
      " 5   Spectral_Class  240 non-null    object \n",
      " 6   Type            240 non-null    int64  \n",
      "dtypes: float64(3), int64(2), object(2)\n",
      "memory usage: 13.2+ KB\n"
     ]
    }
   ],
   "source": [
    "star = pd.read_csv('Stars.csv')\n",
    "star.info()"
   ]
  },
  {
   "cell_type": "code",
   "execution_count": 5,
   "metadata": {},
   "outputs": [
    {
     "data": {
      "text/html": [
       "<div>\n",
       "<style scoped>\n",
       "    .dataframe tbody tr th:only-of-type {\n",
       "        vertical-align: middle;\n",
       "    }\n",
       "\n",
       "    .dataframe tbody tr th {\n",
       "        vertical-align: top;\n",
       "    }\n",
       "\n",
       "    .dataframe thead th {\n",
       "        text-align: right;\n",
       "    }\n",
       "</style>\n",
       "<table border=\"1\" class=\"dataframe\">\n",
       "  <thead>\n",
       "    <tr style=\"text-align: right;\">\n",
       "      <th></th>\n",
       "      <th>Temperature</th>\n",
       "      <th>L</th>\n",
       "      <th>R</th>\n",
       "      <th>A_M</th>\n",
       "      <th>Color</th>\n",
       "      <th>Spectral_Class</th>\n",
       "      <th>Type</th>\n",
       "    </tr>\n",
       "  </thead>\n",
       "  <tbody>\n",
       "    <tr>\n",
       "      <th>0</th>\n",
       "      <td>3068</td>\n",
       "      <td>0.002400</td>\n",
       "      <td>0.1700</td>\n",
       "      <td>16.12</td>\n",
       "      <td>Red</td>\n",
       "      <td>M</td>\n",
       "      <td>0</td>\n",
       "    </tr>\n",
       "    <tr>\n",
       "      <th>1</th>\n",
       "      <td>3042</td>\n",
       "      <td>0.000500</td>\n",
       "      <td>0.1542</td>\n",
       "      <td>16.60</td>\n",
       "      <td>Red</td>\n",
       "      <td>M</td>\n",
       "      <td>0</td>\n",
       "    </tr>\n",
       "    <tr>\n",
       "      <th>2</th>\n",
       "      <td>2600</td>\n",
       "      <td>0.000300</td>\n",
       "      <td>0.1020</td>\n",
       "      <td>18.70</td>\n",
       "      <td>Red</td>\n",
       "      <td>M</td>\n",
       "      <td>0</td>\n",
       "    </tr>\n",
       "    <tr>\n",
       "      <th>3</th>\n",
       "      <td>2800</td>\n",
       "      <td>0.000200</td>\n",
       "      <td>0.1600</td>\n",
       "      <td>16.65</td>\n",
       "      <td>Red</td>\n",
       "      <td>M</td>\n",
       "      <td>0</td>\n",
       "    </tr>\n",
       "    <tr>\n",
       "      <th>4</th>\n",
       "      <td>1939</td>\n",
       "      <td>0.000138</td>\n",
       "      <td>0.1030</td>\n",
       "      <td>20.06</td>\n",
       "      <td>Red</td>\n",
       "      <td>M</td>\n",
       "      <td>0</td>\n",
       "    </tr>\n",
       "  </tbody>\n",
       "</table>\n",
       "</div>"
      ],
      "text/plain": [
       "   Temperature         L       R    A_M Color Spectral_Class  Type\n",
       "0         3068  0.002400  0.1700  16.12   Red              M     0\n",
       "1         3042  0.000500  0.1542  16.60   Red              M     0\n",
       "2         2600  0.000300  0.1020  18.70   Red              M     0\n",
       "3         2800  0.000200  0.1600  16.65   Red              M     0\n",
       "4         1939  0.000138  0.1030  20.06   Red              M     0"
      ]
     },
     "execution_count": 5,
     "metadata": {},
     "output_type": "execute_result"
    }
   ],
   "source": [
    "star.head()"
   ]
  },
  {
   "cell_type": "code",
   "execution_count": 7,
   "metadata": {},
   "outputs": [],
   "source": [
    "# converting types of data\n",
    "star['Temperature'] = star['Temperature'].astype(int)\n",
    "star['Type'] = pd.Categorical(star.Type)\n",
    "star['Color'] = pd.Categorical(star.Color)\n",
    "star['Spectral_Class'] = pd.Categorical(star.Spectral_Class)"
   ]
  },
  {
   "cell_type": "code",
   "execution_count": 13,
   "metadata": {},
   "outputs": [
    {
     "name": "stdout",
     "output_type": "stream",
     "text": [
      "3600     3\n",
      "3218     2\n",
      "2650     2\n",
      "3625     2\n",
      "3324     2\n",
      "        ..\n",
      "10980    1\n",
      "13720    1\n",
      "19860    1\n",
      "5300     1\n",
      "37882    1\n",
      "Name: Temperature, Length: 228, dtype: int64\n",
      "200000.00000    5\n",
      "0.00067         3\n",
      "0.00014         3\n",
      "0.00098         3\n",
      "0.00050         2\n",
      "               ..\n",
      "0.59000         1\n",
      "0.15300         1\n",
      "0.08500         1\n",
      "0.35700         1\n",
      "294903.00000    1\n",
      "Name: L, Length: 208, dtype: int64\n",
      "36.0000      3\n",
      "0.1100       3\n",
      "1324.0000    3\n",
      "0.2400       3\n",
      "83.0000      2\n",
      "            ..\n",
      "0.0089       1\n",
      "0.0109       1\n",
      "0.0087       1\n",
      "0.0131       1\n",
      "1783.0000    1\n",
      "Name: R, Length: 216, dtype: int64\n",
      " 12.23    3\n",
      " 11.34    2\n",
      "-10.70    2\n",
      "-7.22     2\n",
      " 14.23    2\n",
      "         ..\n",
      " 13.78    1\n",
      " 12.45    1\n",
      " 12.17    1\n",
      " 12.13    1\n",
      "-7.80     1\n",
      "Name: A_M, Length: 228, dtype: int64\n",
      "Red                   112\n",
      "Blue                   56\n",
      "Blue-white             26\n",
      "Blue White             10\n",
      "yellow-white            8\n",
      "White                   7\n",
      "Blue white              4\n",
      "Yellowish White         3\n",
      "white                   3\n",
      "Orange                  2\n",
      "Whitish                 2\n",
      "yellowish               2\n",
      "Blue-White              1\n",
      "Orange-Red              1\n",
      "Pale yellow orange      1\n",
      "White-Yellow            1\n",
      "Yellowish               1\n",
      "Name: Color, dtype: int64\n",
      "M    111\n",
      "B     46\n",
      "O     40\n",
      "A     19\n",
      "F     17\n",
      "K      6\n",
      "G      1\n",
      "Name: Spectral_Class, dtype: int64\n",
      "0    40\n",
      "1    40\n",
      "2    40\n",
      "3    40\n",
      "4    40\n",
      "5    40\n",
      "Name: Type, dtype: int64\n"
     ]
    }
   ],
   "source": [
    "# checking to see if dimension reduction is needed, it is needed for color\n",
    "for feat in star.columns:\n",
    "    print(star[feat].value_counts())"
   ]
  },
  {
   "cell_type": "code",
   "execution_count": 14,
   "metadata": {},
   "outputs": [
    {
     "data": {
      "text/plain": [
       "Red       112\n",
       "Blue       97\n",
       "Yellow     14\n",
       "White      13\n",
       "Orange      4\n",
       "Name: Color, dtype: int64"
      ]
     },
     "execution_count": 14,
     "metadata": {},
     "output_type": "execute_result"
    }
   ],
   "source": [
    "star['Color'] = star['Color'].replace(['Yellowish White','Yellowish','yellow-white','yellowish',],'Yellow')\n",
    "star['Color'] = star['Color'].replace(['Blue-white','Blue White','Blue white','Blue-White'],'Blue')\n",
    "star['Color'] = star['Color'].replace(['white','Whitish','White-Yellow'],'White')\n",
    "star['Color'] = star['Color'].replace(['Orange-Red', 'Pale yellow orange'], 'Orange')\n",
    "star['Color'].value_counts()"
   ]
  },
  {
   "cell_type": "code",
   "execution_count": 15,
   "metadata": {},
   "outputs": [
    {
     "data": {
      "text/html": [
       "<div>\n",
       "<style scoped>\n",
       "    .dataframe tbody tr th:only-of-type {\n",
       "        vertical-align: middle;\n",
       "    }\n",
       "\n",
       "    .dataframe tbody tr th {\n",
       "        vertical-align: top;\n",
       "    }\n",
       "\n",
       "    .dataframe thead th {\n",
       "        text-align: right;\n",
       "    }\n",
       "</style>\n",
       "<table border=\"1\" class=\"dataframe\">\n",
       "  <thead>\n",
       "    <tr style=\"text-align: right;\">\n",
       "      <th></th>\n",
       "      <th>Temperature</th>\n",
       "      <th>L</th>\n",
       "      <th>R</th>\n",
       "      <th>A_M</th>\n",
       "    </tr>\n",
       "  </thead>\n",
       "  <tbody>\n",
       "    <tr>\n",
       "      <th>count</th>\n",
       "      <td>240.000000</td>\n",
       "      <td>240.000000</td>\n",
       "      <td>240.000000</td>\n",
       "      <td>240.000000</td>\n",
       "    </tr>\n",
       "    <tr>\n",
       "      <th>mean</th>\n",
       "      <td>10497.462500</td>\n",
       "      <td>107188.361635</td>\n",
       "      <td>237.157781</td>\n",
       "      <td>4.382396</td>\n",
       "    </tr>\n",
       "    <tr>\n",
       "      <th>std</th>\n",
       "      <td>9552.425037</td>\n",
       "      <td>179432.244940</td>\n",
       "      <td>517.155763</td>\n",
       "      <td>10.532512</td>\n",
       "    </tr>\n",
       "    <tr>\n",
       "      <th>min</th>\n",
       "      <td>1939.000000</td>\n",
       "      <td>0.000080</td>\n",
       "      <td>0.008400</td>\n",
       "      <td>-11.920000</td>\n",
       "    </tr>\n",
       "    <tr>\n",
       "      <th>25%</th>\n",
       "      <td>3344.250000</td>\n",
       "      <td>0.000865</td>\n",
       "      <td>0.102750</td>\n",
       "      <td>-6.232500</td>\n",
       "    </tr>\n",
       "    <tr>\n",
       "      <th>50%</th>\n",
       "      <td>5776.000000</td>\n",
       "      <td>0.070500</td>\n",
       "      <td>0.762500</td>\n",
       "      <td>8.313000</td>\n",
       "    </tr>\n",
       "    <tr>\n",
       "      <th>75%</th>\n",
       "      <td>15055.500000</td>\n",
       "      <td>198050.000000</td>\n",
       "      <td>42.750000</td>\n",
       "      <td>13.697500</td>\n",
       "    </tr>\n",
       "    <tr>\n",
       "      <th>max</th>\n",
       "      <td>40000.000000</td>\n",
       "      <td>849420.000000</td>\n",
       "      <td>1948.500000</td>\n",
       "      <td>20.060000</td>\n",
       "    </tr>\n",
       "  </tbody>\n",
       "</table>\n",
       "</div>"
      ],
      "text/plain": [
       "        Temperature              L            R         A_M\n",
       "count    240.000000     240.000000   240.000000  240.000000\n",
       "mean   10497.462500  107188.361635   237.157781    4.382396\n",
       "std     9552.425037  179432.244940   517.155763   10.532512\n",
       "min     1939.000000       0.000080     0.008400  -11.920000\n",
       "25%     3344.250000       0.000865     0.102750   -6.232500\n",
       "50%     5776.000000       0.070500     0.762500    8.313000\n",
       "75%    15055.500000  198050.000000    42.750000   13.697500\n",
       "max    40000.000000  849420.000000  1948.500000   20.060000"
      ]
     },
     "execution_count": 15,
     "metadata": {},
     "output_type": "execute_result"
    }
   ],
   "source": [
    "star.describe()"
   ]
  },
  {
   "cell_type": "code",
   "execution_count": 22,
   "metadata": {},
   "outputs": [
    {
     "data": {
      "image/png": "[encoded data removed]",
      "text/plain": [
       "<Figure size 432x288 with 1 Axes>"
      ]
     },
     "metadata": {
      "needs_background": "light"
     },
     "output_type": "display_data"
    },
    {
     "data": {
      "image/png": "[encoded data removed]",
      "text/plain": [
       "<Figure size 432x288 with 1 Axes>"
      ]
     },
     "metadata": {
      "needs_background": "light"
     },
     "output_type": "display_data"
    },
    {
     "data": {
      "image/png": "[encoded data removed]",
      "text/plain": [
       "<Figure size 432x288 with 1 Axes>"
      ]
     },
     "metadata": {
      "needs_background": "light"
     },
     "output_type": "display_data"
    }
   ],
   "source": [
    "# see outlying data\n",
    "numeric_features = ['L', 'R', 'A_M']\n",
    "for feat in numeric_features:\n",
    "    plt.boxplot(star[feat])\n",
    "    plt.title(feat)\n",
    "    plt.show()"
   ]
  },
  {
   "cell_type": "markdown",
   "metadata": {},
   "source": [
    "Outliers seen in R and L, need to remove."
   ]
  },
  {
   "cell_type": "code",
   "execution_count": 29,
   "metadata": {},
   "outputs": [
    {
     "name": "stdout",
     "output_type": "stream",
     "text": [
      "Number of outliers removed from L:  12\n"
     ]
    },
    {
     "data": {
      "image/png": "[encoded data removed]",
      "text/plain": [
       "<Figure size 432x288 with 1 Axes>"
      ]
     },
     "metadata": {
      "needs_background": "light"
     },
     "output_type": "display_data"
    },
    {
     "name": "stdout",
     "output_type": "stream",
     "text": [
      "Number of outliers removed from R:  41\n"
     ]
    },
    {
     "data": {
      "image/png": "[encoded data removed]",
      "text/plain": [
       "<Figure size 432x288 with 1 Axes>"
      ]
     },
     "metadata": {
      "needs_background": "light"
     },
     "output_type": "display_data"
    }
   ],
   "source": [
    "outliers = star[['L', 'R']]\n",
    "\n",
    "for val in outliers:\n",
    "    initial_amount = outliers[val].shape[0]\n",
    "    percentile_lower = outliers[val].quantile(0.25)\n",
    "    percentile_higher = outliers[val].quantile(0.75)\n",
    "\n",
    "    iqr = percentile_higher - percentile_lower\n",
    "\n",
    "    # finding the limits\n",
    "    lower = percentile_lower - (1.5*iqr)\n",
    "    higher = percentile_higher + (1.5*iqr)\n",
    "\n",
    "    # removing outliers \n",
    "    outliers = outliers[outliers[val] < higher]\n",
    "    #outliers = outliers[outliers[val] > lower]\n",
    "\n",
    "    final_amount = outliers[val].shape[0]\n",
    "\n",
    "    print(f'Number of outliers removed from {val}: ',initial_amount-final_amount)\n",
    "\n",
    "    plt.boxplot(outliers[val])\n",
    "    plt.title(val)\n",
    "    plt.show()"
   ]
  },
  {
   "cell_type": "code",
   "execution_count": 37,
   "metadata": {},
   "outputs": [
    {
     "name": "stdout",
     "output_type": "stream",
     "text": [
      "<class 'pandas.core.frame.DataFrame'>\n",
      "Int64Index: 187 entries, 0 to 186\n",
      "Data columns (total 7 columns):\n",
      " #   Column          Non-Null Count  Dtype   \n",
      "---  ------          --------------  -----   \n",
      " 0   L               187 non-null    float64 \n",
      " 1   R               187 non-null    float64 \n",
      " 2   Temperature     187 non-null    int64   \n",
      " 3   A_M             187 non-null    float64 \n",
      " 4   Color           187 non-null    category\n",
      " 5   Spectral_Class  187 non-null    category\n",
      " 6   Type            187 non-null    category\n",
      "dtypes: category(3), float64(3), int64(1)\n",
      "memory usage: 8.6 KB\n"
     ]
    }
   ],
   "source": [
    "# adding the cleaned data back to dataframe\n",
    "\n",
    "\n",
    "stars_clean = pd.merge(outliers, star)\n",
    "stars_clean.info()"
   ]
  },
  {
   "cell_type": "code",
   "execution_count": null,
   "metadata": {},
   "outputs": [],
   "source": []
  }
 ],
 "metadata": {
  "kernelspec": {
   "display_name": "Python 3.8.10 64-bit",
   "language": "python",
   "name": "python3"
  },
  "language_info": {
   "codemirror_mode": {
    "name": "ipython",
    "version": 3
   },
   "file_extension": ".py",
   "mimetype": "text/x-python",
   "name": "python",
   "nbconvert_exporter": "python",
   "pygments_lexer": "ipython3",
   "version": "3.8.10"
  },
  "orig_nbformat": 4,
  "vscode": {
   "interpreter": {
    "hash": "916dbcbb3f70747c44a77c7bcd40155683ae19c65e1c03b4aa3499c5328201f1"
   }
  }
 },
 "nbformat": 4,
 "nbformat_minor": 2
}
